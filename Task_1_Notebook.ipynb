{
 "cells": [
  {
   "cell_type": "markdown",
   "metadata": {},
   "source": [
    "- OBJECTIVE \n",
    "        Extract all individual information about hotel of a particular city i.e. Bangalore.\n",
    "        \n",
    "\n",
    "- TASK GIVEN\n",
    "        Make a scrapper that visits all the individual pages & then on each\n",
    "        page visits individual hotel then extracts information.\n",
    "    \n",
    "- TOOLS USED\n",
    "        Beautiful soup, Selenium\n",
    "        \n",
    "        \n",
    "- PROGRAMMING LANGUAGE\n",
    "        Python"
   ]
  },
  {
   "cell_type": "code",
   "execution_count": 28,
   "metadata": {},
   "outputs": [],
   "source": [
    "import requests\n",
    "import time\n",
    "import lxml\n",
    "from selenium import webdriver\n",
    "from bs4 import BeautifulSoup\n",
    "import data\n",
    "import random\n",
    "import os\n",
    "from selenium import webdriver\n",
    "from bs4 import BeautifulSoup\n",
    "import re\n",
    "from urllib.request import Request,urlopen\n",
    "from bs4 import BeautifulSoup as soup\n",
    "import json"
   ]
  },
  {
   "cell_type": "code",
   "execution_count": 2,
   "metadata": {},
   "outputs": [],
   "source": [
    "baseURL = \"https://me.cleartrip.com/\"\n",
    "cityURL = \"https://me.cleartrip.com/hotels/india/bangalore\""
   ]
  },
  {
   "cell_type": "code",
   "execution_count": 7,
   "metadata": {},
   "outputs": [],
   "source": [
    "baseURL = data.baseURL\n",
    "cityURL = data.cityURL"
   ]
  },
  {
   "cell_type": "code",
   "execution_count": 8,
   "metadata": {},
   "outputs": [],
   "source": [
    "page = requests.get(cityURL)\n",
    "soup = BeautifulSoup(page.text, 'html.parser')"
   ]
  },
  {
   "cell_type": "code",
   "execution_count": 11,
   "metadata": {},
   "outputs": [
    {
     "name": "stdout",
     "output_type": "stream",
     "text": [
      "Total Number of Pages : 43\n"
     ]
    }
   ],
   "source": [
    "pageNumber = soup.select('.pagination a')\n",
    "pageNumber = pageNumber[:-1]\n",
    "print(\"Total Number of Pages :\", len(pageNumber) + 1)"
   ]
  },
  {
   "cell_type": "code",
   "execution_count": 14,
   "metadata": {},
   "outputs": [],
   "source": [
    "for i in pageNumber:\n",
    "    pageNumberLinks = []\n",
    "    pageNumberLinks = (baseURL + i.get('href'))\n",
    "    with open(\"PageNumberLinks.txt\", 'a') as file:\n",
    "        file.write(pageNumberLinks + \"\\n\")"
   ]
  },
  {
   "cell_type": "code",
   "execution_count": 23,
   "metadata": {},
   "outputs": [
    {
     "name": "stdout",
     "output_type": "stream",
     "text": [
      "['https://me.cleartrip.com/hotels/india/bangalore', 'https://me.cleartrip.com//hotels/india/bangalore?page=2', 'https://me.cleartrip.com//hotels/india/bangalore?page=3', 'https://me.cleartrip.com//hotels/india/bangalore?page=4', 'https://me.cleartrip.com//hotels/india/bangalore?page=5', 'https://me.cleartrip.com//hotels/india/bangalore?page=6', 'https://me.cleartrip.com//hotels/india/bangalore?page=7', 'https://me.cleartrip.com//hotels/india/bangalore?page=8', 'https://me.cleartrip.com//hotels/india/bangalore?page=9', 'https://me.cleartrip.com//hotels/india/bangalore?page=10', 'https://me.cleartrip.com//hotels/india/bangalore?page=11', 'https://me.cleartrip.com//hotels/india/bangalore?page=12', 'https://me.cleartrip.com//hotels/india/bangalore?page=13', 'https://me.cleartrip.com//hotels/india/bangalore?page=14', 'https://me.cleartrip.com//hotels/india/bangalore?page=15', 'https://me.cleartrip.com//hotels/india/bangalore?page=16', 'https://me.cleartrip.com//hotels/india/bangalore?page=17', 'https://me.cleartrip.com//hotels/india/bangalore?page=18', 'https://me.cleartrip.com//hotels/india/bangalore?page=19', 'https://me.cleartrip.com//hotels/india/bangalore?page=20', 'https://me.cleartrip.com//hotels/india/bangalore?page=21', 'https://me.cleartrip.com//hotels/india/bangalore?page=22', 'https://me.cleartrip.com//hotels/india/bangalore?page=23', 'https://me.cleartrip.com//hotels/india/bangalore?page=24', 'https://me.cleartrip.com//hotels/india/bangalore?page=25', 'https://me.cleartrip.com//hotels/india/bangalore?page=26', 'https://me.cleartrip.com//hotels/india/bangalore?page=27', 'https://me.cleartrip.com//hotels/india/bangalore?page=28', 'https://me.cleartrip.com//hotels/india/bangalore?page=29', 'https://me.cleartrip.com//hotels/india/bangalore?page=30', 'https://me.cleartrip.com//hotels/india/bangalore?page=31', 'https://me.cleartrip.com//hotels/india/bangalore?page=32', 'https://me.cleartrip.com//hotels/india/bangalore?page=33', 'https://me.cleartrip.com//hotels/india/bangalore?page=34', 'https://me.cleartrip.com//hotels/india/bangalore?page=35', 'https://me.cleartrip.com//hotels/india/bangalore?page=36', 'https://me.cleartrip.com//hotels/india/bangalore?page=37', 'https://me.cleartrip.com//hotels/india/bangalore?page=38', 'https://me.cleartrip.com//hotels/india/bangalore?page=39', 'https://me.cleartrip.com//hotels/india/bangalore?page=40', 'https://me.cleartrip.com//hotels/india/bangalore?page=41', 'https://me.cleartrip.com//hotels/india/bangalore?page=42', 'https://me.cleartrip.com//hotels/india/bangalore?page=43']\n"
     ]
    }
   ],
   "source": [
    "baseURL = data.baseURL\n",
    "cityURL = data.cityURL\n",
    "\n",
    "cityURLS = []\n",
    "with open (\"PageNumberLinks.txt\", 'r') as file:\n",
    "    l = file.readlines()\n",
    "    cityURLS = []\n",
    "    cityURLS.append(cityURL)\n",
    "    for i in l:\n",
    "        cityURLS.append(i.strip())\n",
    "    \n",
    "print(cityURLS)"
   ]
  },
  {
   "cell_type": "code",
   "execution_count": 24,
   "metadata": {},
   "outputs": [],
   "source": [
    "res = requests.get(cityURL)\n",
    "soup = BeautifulSoup(res.text, 'lxml')"
   ]
  },
  {
   "cell_type": "code",
   "execution_count": 25,
   "metadata": {},
   "outputs": [],
   "source": [
    "for url in cityURLS:\n",
    "    res = requests.get(url)\n",
    "    res.raise_for_status()\n",
    "    soup = BeautifulSoup(res.text, 'lxml')\n",
    "    hotelRaw = soup.select('#hotelsList a')\n",
    "    for i in hotelRaw:\n",
    "        if i != None:\n",
    "            hotelsURL = (baseURL + str(i.get('href')))\n",
    "            \n",
    "            with open (\"HotelNotCleaned.txt\", 'a') as file:\n",
    "                file.write(hotelsURL + \"\\n\")"
   ]
  },
  {
   "cell_type": "code",
   "execution_count": 26,
   "metadata": {},
   "outputs": [],
   "source": [
    "with open(\"HotelNotCleaned.txt\", 'r') as file:\n",
    "    lines = file.readlines()\n",
    "    \n",
    "with open(\"HotelLinks.txt\", \"a\") as file:\n",
    "    for line in lines:\n",
    "        if (len(line) > 30):\n",
    "            file.write(line)\n",
    "            \n",
    "os.remove(\"HotelNotCleaned.txt\")            "
   ]
  },
  {
   "cell_type": "code",
   "execution_count": 29,
   "metadata": {},
   "outputs": [],
   "source": [
    "def download_hotel_data(hotel_url):\n",
    "    url_client = urlopen(hotel_url)\n",
    "    page_html = url_client.read()\n",
    "    page_soup=soup(page_html,'html.parser')\n",
    "    url_client.close()\n",
    "    return page_soup\n",
    "def find_name(page_soup):\n",
    "    try: \n",
    "        hotel_name=page_soup.title\n",
    "        hotel_name=hotel_name.text\n",
    "        hotel_name=hotel_name.split(',')[0]\n",
    "       \n",
    "        return hotel_name\n",
    "    except:\n",
    "        return None\n",
    "def hotel_address(page_soup):\n",
    "    try:\n",
    "        hotel_address=page_soup.title\n",
    "        hotel_address=hotel_address.text\n",
    "        hotel_address=hotel_address.split(',')[1]\n",
    "        return hotel_address\n",
    "    except:\n",
    "        return None\n",
    "def hotel_price(page_soup):\n",
    "    try:\n",
    "        hotel_price=page_soup.find('p',{'class':'minprice'}).contents[-1]\n",
    "        return hotel_price\n",
    "    except:\n",
    "        return None\n",
    "def hotel_rating(page_soup):\n",
    "    try:\n",
    "        rating=page_soup.find(class_=\"inline row trustBadges\")\n",
    "        hotel_tarating=rating.find('small').text\n",
    "        return hotel_tarating\n",
    "    except:\n",
    "        return None\n",
    "def hotel_dscr(page_soup):\n",
    "    data=\"\"\n",
    "    try:\n",
    "        abouthotel=page_soup.find('div', class_='amenitiesCategory')\n",
    "        about=abouthotel.find_all('p')\n",
    "        for p in about:\n",
    "            data = data + p.text\n",
    "        return data\n",
    "    except:\n",
    "        return None\n",
    "def hotel_others(page_soup):\n",
    "    dct={}\n",
    "    others=page_soup.find_all('div',{'class':'amenities-category'})\n",
    "    tstst = [i for i in others]\n",
    "    try:\n",
    "        check_in=tstst[0].text.split(\" \")[5]# if tstst[0].text.split(\" \")[5] else 0\n",
    "        check_out=tstst[0].text.split(\" \")[9]\n",
    "        rooms_no=tstst[0].text.split(\" \")[13]# if tstst[0].text.split(\" \")[13] else 0\n",
    "        dct['check_in']=check_in\n",
    "        dct['check_out']=check_out\n",
    "        dct['rooms']=rooms_no\n",
    "        others=tstst[1]\n",
    "        heads=[i.text for i in others.find_all('div')]\n",
    "        lsts=others.findAll('ul',{'class':'list-inline amenities'})\n",
    "        lk=0\n",
    "        for i in lsts:\n",
    "            key=heads[lk].lower()\n",
    "            key=re.sub('[^ a-zA-Z0-9]','',key)\n",
    "            key='_'.join(key.split(' '))\n",
    "            dct[key]=i.text.split(\"  \")[1:]\n",
    "            lk+=1\n",
    "        return dct\n",
    "    except:\n",
    "        return None\n",
    "def create_dict(url):\n",
    "    page_soup=download_hotel_data(url)\n",
    "    dct=dict()\n",
    "    dct['hotel_name']=find_name(page_soup)\n",
    "    dct['hotel_url']=str(url)\n",
    "    dct['hotel_address']=hotel_address(page_soup)\n",
    "    dct['hotel_rating']=hotel_rating(page_soup)\n",
    "    dct['hotel_price']=hotel_price(page_soup)\n",
    "    dct['hotel_info']=hotel_dscr(page_soup)\n",
    "    others=hotel_others(page_soup)\n",
    "    try:\n",
    "        for key in others:\n",
    "            dct[key]=others[key]\n",
    "        return dct\n",
    "    except:\n",
    "        return dct"
   ]
  },
  {
   "cell_type": "code",
   "execution_count": 30,
   "metadata": {},
   "outputs": [],
   "source": [
    "# download_hotel_data(\"https://www.cleartrip.com/hotels/india/bangalore\")\n",
    "# print(find_name())"
   ]
  },
  {
   "cell_type": "code",
   "execution_count": 31,
   "metadata": {},
   "outputs": [],
   "source": [
    "with open (\"HotelLinks.txt\", 'r') as file:\n",
    "    l = file.readlines()\n",
    "    allHotels = []\n",
    "    for i in l:\n",
    "        allHotels.append(i.strip())"
   ]
  },
  {
   "cell_type": "code",
   "execution_count": 32,
   "metadata": {},
   "outputs": [],
   "source": [
    "ls_test = []\n",
    "for url in allHotels:\n",
    "    # print(url)\n",
    "    ls_test.append(create_dict(url))\n",
    "# print(ls_test)"
   ]
  },
  {
   "cell_type": "code",
   "execution_count": 33,
   "metadata": {},
   "outputs": [],
   "source": [
    "with open('processed_data.json', 'w') as fp:\n",
    "    json.dump(ls_test, fp)"
   ]
  },
  {
   "cell_type": "code",
   "execution_count": 35,
   "metadata": {},
   "outputs": [],
   "source": [
    "import pandas as pd\n",
    "df = pd.DataFrame(ls_test)"
   ]
  },
  {
   "cell_type": "code",
   "execution_count": 2,
   "metadata": {},
   "outputs": [
    {
     "data": {
      "application/javascript": [
       "\n",
       "        if (window._pyforest_update_imports_cell) { window._pyforest_update_imports_cell('import pandas as pd'); }\n",
       "    "
      ],
      "text/plain": [
       "<IPython.core.display.Javascript object>"
      ]
     },
     "metadata": {},
     "output_type": "display_data"
    }
   ],
   "source": [
    "#df.to_csv('processed_dataframe.csv')\n",
    "a = pd.read_csv('processed_dataframe.csv')"
   ]
  },
  {
   "cell_type": "code",
   "execution_count": 5,
   "metadata": {},
   "outputs": [
    {
     "data": {
      "text/plain": [
       "3 star    537\n",
       "2 star    123\n",
       "4 star     97\n",
       "5 star     48\n",
       "1 star     30\n",
       "OFF         7\n",
       "Name: hotel_rating, dtype: int64"
      ]
     },
     "execution_count": 5,
     "metadata": {},
     "output_type": "execute_result"
    }
   ],
   "source": [
    "a['hotel_rating'].value_counts()"
   ]
  },
  {
   "cell_type": "markdown",
   "metadata": {},
   "source": []
  },
  {
   "cell_type": "code",
   "execution_count": null,
   "metadata": {},
   "outputs": [],
   "source": []
  }
 ],
 "metadata": {
  "kernelspec": {
   "display_name": "Python 3",
   "language": "python",
   "name": "python3"
  },
  "language_info": {
   "codemirror_mode": {
    "name": "ipython",
    "version": 3
   },
   "file_extension": ".py",
   "mimetype": "text/x-python",
   "name": "python",
   "nbconvert_exporter": "python",
   "pygments_lexer": "ipython3",
   "version": "3.7.3"
  }
 },
 "nbformat": 4,
 "nbformat_minor": 4
}
